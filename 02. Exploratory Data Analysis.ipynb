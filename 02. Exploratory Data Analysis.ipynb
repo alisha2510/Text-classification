{
 "cells": [
  {
   "cell_type": "markdown",
   "metadata": {},
   "source": [
    "# Exploratory Data Analysis"
   ]
  },
  {
   "cell_type": "markdown",
   "metadata": {},
   "source": [
    "In this notebook we'll do some exploratory data analysis over our dataset. However, since we don't have our features created yet, we cannot do much at this point. In addition, when we create them, we won't be able to extract many insights because of the nature of text-based features. For this reason, only a shallow analysis will be done at this point.\n",
    "\n",
    "For the plots we have used `seaborn` and `altair`. `altair` is a package which allows us to plot graphics with a simple grammar as we would do in ggplot2 or Tableau. It also provides easy-to-make interactive plots. For further information please visit the project site: https://altair-viz.github.io/.\n",
    "\n",
    "To install it, please type this command in the shell:\n",
    "\n",
    "`! conda install -c conda-forge altair vega_datasets notebook vega`"
   ]
  },
  {
   "cell_type": "code",
   "execution_count": 1,
   "metadata": {},
   "outputs": [],
   "source": [
    "import pandas as pd\n",
    "import matplotlib.pyplot as plt\n",
    "import pickle\n",
    "# import seaborn as sns\n",
    "# sns.set_style(\"whitegrid\")\n",
    "# import altair as alt\n",
    "# alt.renderers.enable(\"notebook\")\n",
    "\n",
    "# Code for hiding seaborn warnings\n",
    "import warnings\n",
    "warnings.filterwarnings(\"ignore\")"
   ]
  },
  {
   "cell_type": "markdown",
   "metadata": {},
   "source": [
    "Loading the dataset:"
   ]
  },
  {
   "cell_type": "code",
   "execution_count": 4,
   "metadata": {},
   "outputs": [],
   "source": [
    "df = pd.read_excel(\"data.xlsx\")"
   ]
  },
  {
   "cell_type": "code",
   "execution_count": 5,
   "metadata": {},
   "outputs": [],
   "source": [
    "df.to_csv(\"sail.csv\", index = False)"
   ]
  },
  {
   "cell_type": "code",
   "execution_count": 6,
   "metadata": {},
   "outputs": [
    {
     "data": {
      "text/html": [
       "<div>\n",
       "<style scoped>\n",
       "    .dataframe tbody tr th:only-of-type {\n",
       "        vertical-align: middle;\n",
       "    }\n",
       "\n",
       "    .dataframe tbody tr th {\n",
       "        vertical-align: top;\n",
       "    }\n",
       "\n",
       "    .dataframe thead th {\n",
       "        text-align: right;\n",
       "    }\n",
       "</style>\n",
       "<table border=\"1\" class=\"dataframe\">\n",
       "  <thead>\n",
       "    <tr style=\"text-align: right;\">\n",
       "      <th></th>\n",
       "      <th>Tender Title</th>\n",
       "      <th>Label</th>\n",
       "      <th>Tender No and date</th>\n",
       "      <th>Plant/Unit</th>\n",
       "      <th>Tender issue date and time</th>\n",
       "      <th>Bid Submission Closing date and Time</th>\n",
       "      <th>Remarks</th>\n",
       "      <th>Label_Code</th>\n",
       "    </tr>\n",
       "  </thead>\n",
       "  <tbody>\n",
       "    <tr>\n",
       "      <th>0</th>\n",
       "      <td>Procurement of water treatment chemicals for 4...</td>\n",
       "      <td>raw_materials</td>\n",
       "      <td>000000001738 Dt. 17/01/2020</td>\n",
       "      <td>IISCO Steel Plant</td>\n",
       "      <td>Feb 18 2020  5:00:00:000PM</td>\n",
       "      <td>Mar 25 2020 12:00:00:000PM</td>\n",
       "      <td>Corr</td>\n",
       "      <td>5</td>\n",
       "    </tr>\n",
       "    <tr>\n",
       "      <th>1</th>\n",
       "      <td>SPARES FOR ROD MILL LINER</td>\n",
       "      <td>hardware</td>\n",
       "      <td>003/215/1902000911/500006763/01/00</td>\n",
       "      <td>Rourkela Steel Plant</td>\n",
       "      <td>Jan  8 2020  8:00:00:000PM</td>\n",
       "      <td>May 21 2020  4:00:00:000PM</td>\n",
       "      <td>Corr</td>\n",
       "      <td>2</td>\n",
       "    </tr>\n",
       "    <tr>\n",
       "      <th>2</th>\n",
       "      <td>SPARES FOR OVEN INTERLOCKING SYSTEM OF COB-1,3...</td>\n",
       "      <td>hardware</td>\n",
       "      <td>003/340/1902000406/01/00/500006867 dated 21.01...</td>\n",
       "      <td>Rourkela Steel Plant</td>\n",
       "      <td>Feb 26 2020  7:00:00:000PM</td>\n",
       "      <td>Mar 26 2020  4:00:00:000PM</td>\n",
       "      <td>Corr</td>\n",
       "      <td>2</td>\n",
       "    </tr>\n",
       "    <tr>\n",
       "      <th>3</th>\n",
       "      <td>ORIFICE  FLOW METER FOR RAW WATER RISING MAIN</td>\n",
       "      <td>hardware</td>\n",
       "      <td>003/530/1902002486/01/00/500006927 DTD.20.02.2020</td>\n",
       "      <td>Rourkela Steel Plant</td>\n",
       "      <td>Feb 20 2020  8:00:00:000PM</td>\n",
       "      <td>Apr 20 2020  4:00:00:000PM</td>\n",
       "      <td>Corr</td>\n",
       "      <td>2</td>\n",
       "    </tr>\n",
       "    <tr>\n",
       "      <th>4</th>\n",
       "      <td>FIRE FIGHTG ENSEMBLE SET (JACKET,TROUSER,BOOT,...</td>\n",
       "      <td>none</td>\n",
       "      <td>004/007/1848000076/02/00/500006945  DATED:05.0...</td>\n",
       "      <td>Rourkela Steel Plant</td>\n",
       "      <td>Apr 29 2020  4:00:00:000PM</td>\n",
       "      <td>May 20 2020  4:00:00:000PM</td>\n",
       "      <td>Corr</td>\n",
       "      <td>4</td>\n",
       "    </tr>\n",
       "  </tbody>\n",
       "</table>\n",
       "</div>"
      ],
      "text/plain": [
       "                                        Tender Title          Label  \\\n",
       "0  Procurement of water treatment chemicals for 4...  raw_materials   \n",
       "1                          SPARES FOR ROD MILL LINER       hardware   \n",
       "2  SPARES FOR OVEN INTERLOCKING SYSTEM OF COB-1,3...       hardware   \n",
       "3      ORIFICE  FLOW METER FOR RAW WATER RISING MAIN       hardware   \n",
       "4  FIRE FIGHTG ENSEMBLE SET (JACKET,TROUSER,BOOT,...           none   \n",
       "\n",
       "                                  Tender No and date            Plant/Unit  \\\n",
       "0                        000000001738 Dt. 17/01/2020     IISCO Steel Plant   \n",
       "1                 003/215/1902000911/500006763/01/00  Rourkela Steel Plant   \n",
       "2  003/340/1902000406/01/00/500006867 dated 21.01...  Rourkela Steel Plant   \n",
       "3  003/530/1902002486/01/00/500006927 DTD.20.02.2020  Rourkela Steel Plant   \n",
       "4  004/007/1848000076/02/00/500006945  DATED:05.0...  Rourkela Steel Plant   \n",
       "\n",
       "   Tender issue date and time Bid Submission Closing date and Time Remarks  \\\n",
       "0  Feb 18 2020  5:00:00:000PM           Mar 25 2020 12:00:00:000PM    Corr   \n",
       "1  Jan  8 2020  8:00:00:000PM           May 21 2020  4:00:00:000PM    Corr   \n",
       "2  Feb 26 2020  7:00:00:000PM           Mar 26 2020  4:00:00:000PM    Corr   \n",
       "3  Feb 20 2020  8:00:00:000PM           Apr 20 2020  4:00:00:000PM    Corr   \n",
       "4  Apr 29 2020  4:00:00:000PM           May 20 2020  4:00:00:000PM    Corr   \n",
       "\n",
       "   Label_Code  \n",
       "0           5  \n",
       "1           2  \n",
       "2           2  \n",
       "3           2  \n",
       "4           4  "
      ]
     },
     "execution_count": 6,
     "metadata": {},
     "output_type": "execute_result"
    }
   ],
   "source": [
    "df.head()"
   ]
  },
  {
   "cell_type": "code",
   "execution_count": 7,
   "metadata": {},
   "outputs": [],
   "source": [
    "df.drop([\"Remarks\"], axis = 1, inplace = True)"
   ]
  },
  {
   "cell_type": "code",
   "execution_count": 8,
   "metadata": {},
   "outputs": [
    {
     "data": {
      "text/plain": [
       "skilled_manpower            246\n",
       "none                        165\n",
       "unskilled_manpower           94\n",
       "raw_materials                88\n",
       "hardware                     46\n",
       "vehicle/equipment_hiring     42\n",
       "machine                      35\n",
       "electronics                  23\n",
       "Name: Label, dtype: int64"
      ]
     },
     "execution_count": 8,
     "metadata": {},
     "output_type": "execute_result"
    }
   ],
   "source": [
    "df.Label.value_counts()"
   ]
  },
  {
   "cell_type": "code",
   "execution_count": 9,
   "metadata": {},
   "outputs": [
    {
     "data": {
      "text/plain": [
       "(739, 7)"
      ]
     },
     "execution_count": 9,
     "metadata": {},
     "output_type": "execute_result"
    }
   ],
   "source": [
    "df.shape"
   ]
  },
  {
   "cell_type": "code",
   "execution_count": 10,
   "metadata": {},
   "outputs": [
    {
     "data": {
      "text/plain": [
       "Tender Title                            5\n",
       "Label                                   0\n",
       "Tender No and date                      0\n",
       "Plant/Unit                              0\n",
       "Tender issue date and time              0\n",
       "Bid Submission Closing date and Time    0\n",
       "Label_Code                              0\n",
       "dtype: int64"
      ]
     },
     "execution_count": 10,
     "metadata": {},
     "output_type": "execute_result"
    }
   ],
   "source": [
    "df.isnull().sum()"
   ]
  },
  {
   "cell_type": "code",
   "execution_count": 11,
   "metadata": {},
   "outputs": [],
   "source": [
    "df = df[pd.notnull(df['Tender Title'])]"
   ]
  },
  {
   "cell_type": "code",
   "execution_count": 12,
   "metadata": {},
   "outputs": [
    {
     "data": {
      "text/plain": [
       "Tender Title                            0\n",
       "Label                                   0\n",
       "Tender No and date                      0\n",
       "Plant/Unit                              0\n",
       "Tender issue date and time              0\n",
       "Bid Submission Closing date and Time    0\n",
       "Label_Code                              0\n",
       "dtype: int64"
      ]
     },
     "execution_count": 12,
     "metadata": {},
     "output_type": "execute_result"
    }
   ],
   "source": [
    "df.isnull().sum()"
   ]
  },
  {
   "cell_type": "code",
   "execution_count": 13,
   "metadata": {},
   "outputs": [
    {
     "data": {
      "text/plain": [
       "(734, 7)"
      ]
     },
     "execution_count": 13,
     "metadata": {},
     "output_type": "execute_result"
    }
   ],
   "source": [
    "df.shape"
   ]
  },
  {
   "cell_type": "markdown",
   "metadata": {},
   "source": [
    "### Number of articles in each category"
   ]
  },
  {
   "cell_type": "code",
   "execution_count": 14,
   "metadata": {
    "scrolled": false
   },
   "outputs": [],
   "source": [
    "# bars = alt.Chart(df).mark_bar(size=50).encode(\n",
    "#     x=alt.X(\"Label\"),\n",
    "#     y=alt.Y(\"count():Q\", axis=alt.Axis(title='Number of examples')),\n",
    "#     tooltip=[alt.Tooltip('count()', title='Number of examples'), 'Label'],\n",
    "#     color='Label'\n",
    "\n",
    "# )\n",
    "\n",
    "# text = bars.mark_text(\n",
    "#     align='center',\n",
    "#     baseline='bottom',\n",
    "# ).encode(\n",
    "#     text='count()'\n",
    "# )\n",
    "\n",
    "# (bars + text).interactive().properties(\n",
    "#     height=300, \n",
    "#     width=700,\n",
    "#     title = \"Number of examples in each category\",\n",
    "# )"
   ]
  },
  {
   "cell_type": "markdown",
   "metadata": {},
   "source": [
    "### % of articles in each category"
   ]
  },
  {
   "cell_type": "code",
   "execution_count": 15,
   "metadata": {},
   "outputs": [],
   "source": [
    "# df['id'] = 1\n",
    "# df2 = pd.DataFrame(df.groupby('Classification').count()['id']).reset_index()\n",
    "\n",
    "# bars = alt.Chart(df2).mark_bar(size=50).encode(\n",
    "#     x=alt.X('Label'),\n",
    "#     y=alt.Y('PercentOfTotal:Q', axis=alt.Axis(format='.0%', title='% of Clauses')),\n",
    "#     color='Label'\n",
    "# ).transform_window(\n",
    "#     TotalArticles='sum(id)',\n",
    "#     frame=[None, None]\n",
    "# ).transform_calculate(\n",
    "#     PercentOfTotal=\"datum.id / datum.TotalArticles\"\n",
    "# )\n",
    "\n",
    "# text = bars.mark_text(\n",
    "#     align='center',\n",
    "#     baseline='bottom',\n",
    "#     #dx=5  # Nudges text to right so it doesn't appear on top of the bar\n",
    "# ).encode(\n",
    "#     text=alt.Text('PercentOfTotal:Q', format='.1%')\n",
    "# )\n",
    "\n",
    "# (bars + text).interactive().properties(\n",
    "#     height=300, \n",
    "#     width=700,\n",
    "#     title = \"% of Clauses in each category\",\n",
    "# )"
   ]
  },
  {
   "cell_type": "markdown",
   "metadata": {},
   "source": [
    "### News length by category"
   ]
  },
  {
   "cell_type": "markdown",
   "metadata": {},
   "source": [
    "Definition of news length field. Although there are special characters in the text (``\\r, \\n``), it will be useful as an approximation."
   ]
  },
  {
   "cell_type": "code",
   "execution_count": 16,
   "metadata": {},
   "outputs": [],
   "source": [
    "# df['Clause_length'] = df['Clause'].str.len()"
   ]
  },
  {
   "cell_type": "code",
   "execution_count": 17,
   "metadata": {},
   "outputs": [],
   "source": [
    "# plt.figure(figsize=(12.8,6))\n",
    "# sns.distplot(df['Clause_length']).set_title('Clause length distribution');"
   ]
  },
  {
   "cell_type": "code",
   "execution_count": 18,
   "metadata": {},
   "outputs": [],
   "source": [
    "# df['Clause_length'].describe()"
   ]
  },
  {
   "cell_type": "markdown",
   "metadata": {},
   "source": [
    "Let's remove from the 95% percentile onwards to better appreciate the histogram:"
   ]
  },
  {
   "cell_type": "code",
   "execution_count": 19,
   "metadata": {},
   "outputs": [],
   "source": [
    "# quantile_95 = df['Clause_length'].quantile(0.95)\n",
    "# df_95 = df[df['Clause_length'] < quantile_95]"
   ]
  },
  {
   "cell_type": "code",
   "execution_count": 20,
   "metadata": {},
   "outputs": [],
   "source": [
    "# plt.figure(figsize=(12.8,6))\n",
    "# sns.distplot(df_95['Clause_length']).set_title('Clause length distribution');"
   ]
  },
  {
   "cell_type": "markdown",
   "metadata": {},
   "source": [
    "We can get the number of news articles with more than 10,000 characters:"
   ]
  },
  {
   "cell_type": "code",
   "execution_count": 21,
   "metadata": {},
   "outputs": [],
   "source": [
    "# df_more10k = df[df['News_length'] > 10000]\n",
    "# len(df_more10k)"
   ]
  },
  {
   "cell_type": "markdown",
   "metadata": {},
   "source": [
    "Let's see one:"
   ]
  },
  {
   "cell_type": "code",
   "execution_count": 22,
   "metadata": {
    "scrolled": false
   },
   "outputs": [],
   "source": [
    "# df_more10k['Content'].iloc[0]"
   ]
  },
  {
   "cell_type": "markdown",
   "metadata": {},
   "source": [
    "It's just a large news article."
   ]
  },
  {
   "cell_type": "markdown",
   "metadata": {},
   "source": [
    "Let's now plot a boxplot:"
   ]
  },
  {
   "cell_type": "code",
   "execution_count": 23,
   "metadata": {
    "scrolled": false
   },
   "outputs": [],
   "source": [
    "# plt.figure(figsize=(12.8,6))\n",
    "# sns.boxplot(data=df, x='Label', y='Clause_length', width=.5);"
   ]
  },
  {
   "cell_type": "markdown",
   "metadata": {},
   "source": [
    "Now, let's remove the larger documents for better comprehension:"
   ]
  },
  {
   "cell_type": "code",
   "execution_count": 24,
   "metadata": {},
   "outputs": [],
   "source": [
    "# plt.figure(figsize=(12.8,6))\n",
    "# sns.boxplot(data=df_95, x='Category', y='News_length');"
   ]
  },
  {
   "cell_type": "markdown",
   "metadata": {},
   "source": [
    "We can see that, although the length distribution is different for every category, the difference is not too big. If we had way too different lengths between categories we would have a problem since the feature creation process may take into account counts of words. However, when creating the features with TF-IDF scoring, we will normalize the features just to avoid this."
   ]
  },
  {
   "cell_type": "markdown",
   "metadata": {},
   "source": [
    "At this point, we cannot do further Exploratory Data Analysis. We'll turn onto the **Feature Engineering** section."
   ]
  },
  {
   "cell_type": "markdown",
   "metadata": {},
   "source": [
    "We'll save the dataset:"
   ]
  },
  {
   "cell_type": "code",
   "execution_count": 25,
   "metadata": {},
   "outputs": [],
   "source": [
    "with open('Contract_dataset.pickle', 'wb') as output:\n",
    "    pickle.dump(df, output)"
   ]
  },
  {
   "cell_type": "code",
   "execution_count": null,
   "metadata": {},
   "outputs": [],
   "source": []
  },
  {
   "cell_type": "code",
   "execution_count": null,
   "metadata": {},
   "outputs": [],
   "source": []
  },
  {
   "cell_type": "code",
   "execution_count": null,
   "metadata": {},
   "outputs": [],
   "source": []
  },
  {
   "cell_type": "code",
   "execution_count": null,
   "metadata": {},
   "outputs": [],
   "source": []
  },
  {
   "cell_type": "code",
   "execution_count": null,
   "metadata": {},
   "outputs": [],
   "source": []
  },
  {
   "cell_type": "code",
   "execution_count": null,
   "metadata": {},
   "outputs": [],
   "source": []
  },
  {
   "cell_type": "code",
   "execution_count": null,
   "metadata": {},
   "outputs": [],
   "source": []
  },
  {
   "cell_type": "code",
   "execution_count": null,
   "metadata": {},
   "outputs": [],
   "source": []
  },
  {
   "cell_type": "code",
   "execution_count": null,
   "metadata": {},
   "outputs": [],
   "source": []
  },
  {
   "cell_type": "code",
   "execution_count": null,
   "metadata": {},
   "outputs": [],
   "source": []
  },
  {
   "cell_type": "code",
   "execution_count": null,
   "metadata": {},
   "outputs": [],
   "source": []
  },
  {
   "cell_type": "code",
   "execution_count": null,
   "metadata": {},
   "outputs": [],
   "source": []
  },
  {
   "cell_type": "code",
   "execution_count": null,
   "metadata": {},
   "outputs": [],
   "source": []
  },
  {
   "cell_type": "code",
   "execution_count": null,
   "metadata": {},
   "outputs": [],
   "source": []
  },
  {
   "cell_type": "code",
   "execution_count": null,
   "metadata": {},
   "outputs": [],
   "source": []
  },
  {
   "cell_type": "code",
   "execution_count": null,
   "metadata": {},
   "outputs": [],
   "source": []
  },
  {
   "cell_type": "code",
   "execution_count": null,
   "metadata": {},
   "outputs": [],
   "source": []
  },
  {
   "cell_type": "code",
   "execution_count": null,
   "metadata": {},
   "outputs": [],
   "source": []
  },
  {
   "cell_type": "code",
   "execution_count": null,
   "metadata": {},
   "outputs": [],
   "source": []
  },
  {
   "cell_type": "code",
   "execution_count": null,
   "metadata": {},
   "outputs": [],
   "source": []
  },
  {
   "cell_type": "code",
   "execution_count": null,
   "metadata": {},
   "outputs": [],
   "source": []
  },
  {
   "cell_type": "code",
   "execution_count": null,
   "metadata": {},
   "outputs": [],
   "source": []
  },
  {
   "cell_type": "code",
   "execution_count": null,
   "metadata": {},
   "outputs": [],
   "source": []
  },
  {
   "cell_type": "code",
   "execution_count": null,
   "metadata": {},
   "outputs": [],
   "source": []
  },
  {
   "cell_type": "code",
   "execution_count": null,
   "metadata": {},
   "outputs": [],
   "source": []
  },
  {
   "cell_type": "code",
   "execution_count": null,
   "metadata": {},
   "outputs": [],
   "source": []
  },
  {
   "cell_type": "code",
   "execution_count": null,
   "metadata": {},
   "outputs": [],
   "source": []
  },
  {
   "cell_type": "code",
   "execution_count": null,
   "metadata": {},
   "outputs": [],
   "source": []
  },
  {
   "cell_type": "code",
   "execution_count": null,
   "metadata": {},
   "outputs": [],
   "source": []
  },
  {
   "cell_type": "code",
   "execution_count": null,
   "metadata": {},
   "outputs": [],
   "source": []
  },
  {
   "cell_type": "code",
   "execution_count": null,
   "metadata": {},
   "outputs": [],
   "source": []
  }
 ],
 "metadata": {
  "kernelspec": {
   "display_name": "Python 3",
   "language": "python",
   "name": "python3"
  },
  "language_info": {
   "codemirror_mode": {
    "name": "ipython",
    "version": 3
   },
   "file_extension": ".py",
   "mimetype": "text/x-python",
   "name": "python",
   "nbconvert_exporter": "python",
   "pygments_lexer": "ipython3",
   "version": "3.7.6"
  }
 },
 "nbformat": 4,
 "nbformat_minor": 2
}
